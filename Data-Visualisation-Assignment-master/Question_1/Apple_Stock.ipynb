{
 "cells": [
  {
   "cell_type": "code",
   "execution_count": 22,
   "id": "28f231d0-f520-44cc-866d-9fe6dc99617f",
   "metadata": {},
   "outputs": [],
   "source": [
    "import pandas as pd\n",
    "import numpy as np"
   ]
  },
  {
   "cell_type": "code",
   "execution_count": 23,
   "id": "71627e6c-21bc-48e2-aaa0-c355202b0590",
   "metadata": {},
   "outputs": [],
   "source": [
    "data = pd.read_csv('Apple_Stock.csv')"
   ]
  },
  {
   "cell_type": "code",
   "execution_count": 24,
   "id": "dd1077e6-47c4-4f82-9bb9-d0b8e15c338a",
   "metadata": {},
   "outputs": [
    {
     "data": {
      "text/html": [
       "<div>\n",
       "<style scoped>\n",
       "    .dataframe tbody tr th:only-of-type {\n",
       "        vertical-align: middle;\n",
       "    }\n",
       "\n",
       "    .dataframe tbody tr th {\n",
       "        vertical-align: top;\n",
       "    }\n",
       "\n",
       "    .dataframe thead th {\n",
       "        text-align: right;\n",
       "    }\n",
       "</style>\n",
       "<table border=\"1\" class=\"dataframe\">\n",
       "  <thead>\n",
       "    <tr style=\"text-align: right;\">\n",
       "      <th></th>\n",
       "      <th>Date</th>\n",
       "      <th>Open</th>\n",
       "      <th>High</th>\n",
       "      <th>Low</th>\n",
       "      <th>Close</th>\n",
       "      <th>Adj Close</th>\n",
       "      <th>Volume</th>\n",
       "    </tr>\n",
       "  </thead>\n",
       "  <tbody>\n",
       "    <tr>\n",
       "      <th>0</th>\n",
       "      <td>12-12-1980</td>\n",
       "      <td>0.128348</td>\n",
       "      <td>0.128906</td>\n",
       "      <td>0.128348</td>\n",
       "      <td>0.128348</td>\n",
       "      <td>0.101261</td>\n",
       "      <td>469033600.0</td>\n",
       "    </tr>\n",
       "    <tr>\n",
       "      <th>1</th>\n",
       "      <td>15-12-1980</td>\n",
       "      <td>0.122210</td>\n",
       "      <td>0.122210</td>\n",
       "      <td>0.121652</td>\n",
       "      <td>0.121652</td>\n",
       "      <td>0.095978</td>\n",
       "      <td>175884800.0</td>\n",
       "    </tr>\n",
       "    <tr>\n",
       "      <th>2</th>\n",
       "      <td>16-12-1980</td>\n",
       "      <td>0.113281</td>\n",
       "      <td>0.113281</td>\n",
       "      <td>0.112723</td>\n",
       "      <td>0.112723</td>\n",
       "      <td>0.088934</td>\n",
       "      <td>105728000.0</td>\n",
       "    </tr>\n",
       "    <tr>\n",
       "      <th>3</th>\n",
       "      <td>17-12-1980</td>\n",
       "      <td>0.115513</td>\n",
       "      <td>0.116071</td>\n",
       "      <td>0.115513</td>\n",
       "      <td>0.115513</td>\n",
       "      <td>0.091135</td>\n",
       "      <td>86441600.0</td>\n",
       "    </tr>\n",
       "    <tr>\n",
       "      <th>4</th>\n",
       "      <td>18-12-1980</td>\n",
       "      <td>0.118862</td>\n",
       "      <td>0.119420</td>\n",
       "      <td>0.118862</td>\n",
       "      <td>0.118862</td>\n",
       "      <td>0.093777</td>\n",
       "      <td>73449600.0</td>\n",
       "    </tr>\n",
       "  </tbody>\n",
       "</table>\n",
       "</div>"
      ],
      "text/plain": [
       "         Date      Open      High       Low     Close  Adj Close       Volume\n",
       "0  12-12-1980  0.128348  0.128906  0.128348  0.128348   0.101261  469033600.0\n",
       "1  15-12-1980  0.122210  0.122210  0.121652  0.121652   0.095978  175884800.0\n",
       "2  16-12-1980  0.113281  0.113281  0.112723  0.112723   0.088934  105728000.0\n",
       "3  17-12-1980  0.115513  0.116071  0.115513  0.115513   0.091135   86441600.0\n",
       "4  18-12-1980  0.118862  0.119420  0.118862  0.118862   0.093777   73449600.0"
      ]
     },
     "execution_count": 24,
     "metadata": {},
     "output_type": "execute_result"
    }
   ],
   "source": [
    "data.head(5)"
   ]
  },
  {
   "cell_type": "markdown",
   "id": "f71c0a49-ab33-4f0a-8902-eb62f255b394",
   "metadata": {},
   "source": [
    "## Calculating the statistics for 'Close' column"
   ]
  },
  {
   "cell_type": "code",
   "execution_count": 25,
   "id": "d3a7f997-e19a-44e8-bada-d8d6140ce8ed",
   "metadata": {},
   "outputs": [
    {
     "name": "stdout",
     "output_type": "stream",
     "text": [
      "1\n"
     ]
    }
   ],
   "source": [
    "# Checking for missing values\n",
    "print(data['Close'].isna().sum())"
   ]
  },
  {
   "cell_type": "code",
   "execution_count": 26,
   "id": "26dcb17d-b0e5-4759-aab7-e4dc0a0e58af",
   "metadata": {},
   "outputs": [],
   "source": [
    "# Using Pandas\n",
    "mean_close = data['Close'].mean()\n",
    "median_close = data['Close'].median()\n",
    "mode_close = data['Close'].mode()[0]  # Mode may return multiple values. So taking the first mode.\n",
    "std_dev_close = data['Close'].std()"
   ]
  },
  {
   "cell_type": "code",
   "execution_count": 27,
   "id": "d8216993-c303-4719-a03c-b1299b9a89d2",
   "metadata": {},
   "outputs": [],
   "source": [
    "# Using Numpy\n",
    "mean_close_np = np.mean(data['Close'])\n",
    "median_close_np = np.nanmedian(data['Close'])  # Here we will be ignoring nan values\n",
    "# Numpy does not have a built-in mode function; we use Pandas mode only\n",
    "std_dev_close_np = np.std(data['Close'], ddof=1)  # Using ddof=1 for sample standard deviation (same as Pandas)"
   ]
  },
  {
   "cell_type": "code",
   "execution_count": 28,
   "id": "e684842f-6995-4df7-831d-047fe9379ec8",
   "metadata": {},
   "outputs": [
    {
     "name": "stdout",
     "output_type": "stream",
     "text": [
      "Using Pandas:\n",
      "Mean (Close): 9.01893262725911\n",
      "Median (Close): 0.4375\n",
      "Mode (Close): 0.399554\n",
      "Standard Deviation (Close): 16.86835314824066\n",
      "\n",
      "Using Numpy:\n",
      "Mean (Close): 9.01893262725911\n",
      "Median (Close): 0.4375\n",
      "Standard Deviation (Close): 16.86835314824066\n"
     ]
    }
   ],
   "source": [
    "print(\"Using Pandas:\")\n",
    "print(f\"Mean (Close): {mean_close}\")\n",
    "print(f\"Median (Close): {median_close}\")\n",
    "print(f\"Mode (Close): {mode_close}\")\n",
    "print(f\"Standard Deviation (Close): {std_dev_close}\")\n",
    "\n",
    "print(\"\\nUsing Numpy:\")\n",
    "print(f\"Mean (Close): {mean_close_np}\")\n",
    "print(f\"Median (Close): {median_close_np}\")\n",
    "print(f\"Standard Deviation (Close): {std_dev_close_np}\")"
   ]
  },
  {
   "cell_type": "markdown",
   "id": "2f05d7e6-273f-4c4a-949b-db24853281f3",
   "metadata": {},
   "source": [
    "## Calculating the statistics for other columns"
   ]
  },
  {
   "cell_type": "code",
   "execution_count": 29,
   "id": "301b3339-0927-45df-a592-189a2f9b268e",
   "metadata": {},
   "outputs": [
    {
     "name": "stdout",
     "output_type": "stream",
     "text": [
      "Using Pandas:\n",
      "Mean (Open): 9.013321904243634\n",
      "Median (Open): 0.4375\n",
      "Mode (Open): 0.354911\n",
      "Standard Deviation (Open): 16.84264272261582\n",
      "\n",
      "Using Numpy:\n",
      "Mean (Open): 9.013321904243634\n",
      "Median (Open): 0.4375\n",
      "Standard Deviation (Open): 16.84264272261582\n"
     ]
    }
   ],
   "source": [
    "# Using Pandas\n",
    "mean_open = data['Open'].mean()\n",
    "median_open = data['Open'].median()\n",
    "mode_open = data['Open'].mode()[0] \n",
    "std_dev_open = data['Open'].std()\n",
    "\n",
    "# Using Numpy\n",
    "mean_open_np = np.mean(data['Open'])\n",
    "median_open_np = np.nanmedian(data['Open'])  \n",
    "std_dev_open_np = np.std(data['Open'], ddof=1) \n",
    "\n",
    "print(\"Using Pandas:\")\n",
    "print(f\"Mean (Open): {mean_open}\")\n",
    "print(f\"Median (Open): {median_open}\")\n",
    "print(f\"Mode (Open): {mode_open}\")\n",
    "print(f\"Standard Deviation (Open): {std_dev_open}\")\n",
    "\n",
    "print(\"\\nUsing Numpy:\")\n",
    "print(f\"Mean (Open): {mean_open_np}\")\n",
    "print(f\"Median (Open): {median_open_np}\")\n",
    "print(f\"Standard Deviation (Open): {std_dev_open_np}\")"
   ]
  },
  {
   "cell_type": "code",
   "execution_count": 30,
   "id": "2f111a40-0172-4edc-9409-d5422c14c8b1",
   "metadata": {},
   "outputs": [
    {
     "name": "stdout",
     "output_type": "stream",
     "text": [
      "Using Pandas:\n",
      "Mean (High): 9.107720031253121\n",
      "Median (High): 0.446429\n",
      "Mode (High): 0.372768\n",
      "Standard Deviation (High): 17.028098740241713\n",
      "\n",
      "Using Numpy:\n",
      "Mean (High): 9.107720031253121\n",
      "Median (High): 0.446429\n",
      "Standard Deviation (High): 17.028098740241713\n"
     ]
    }
   ],
   "source": [
    "# Using Pandas\n",
    "mean_high = data['High'].mean()\n",
    "median_high = data['High'].median()\n",
    "mode_high = data['High'].mode()[0] \n",
    "std_dev_high = data['High'].std()\n",
    "\n",
    "# Using Numpy\n",
    "mean_high_np = np.mean(data['High'])\n",
    "median_high_np = np.nanmedian(data['High'])  \n",
    "std_dev_high_np = np.std(data['High'], ddof=1) \n",
    "\n",
    "print(\"Using Pandas:\")\n",
    "print(f\"Mean (High): {mean_high}\")\n",
    "print(f\"Median (High): {median_high}\")\n",
    "print(f\"Mode (High): {mode_high}\")\n",
    "print(f\"Standard Deviation (High): {std_dev_high}\")\n",
    "\n",
    "print(\"\\nUsing Numpy:\")\n",
    "print(f\"Mean (High): {mean_high_np}\")\n",
    "print(f\"Median (High): {median_high_np}\")\n",
    "print(f\"Standard Deviation (High): {std_dev_high_np}\")"
   ]
  },
  {
   "cell_type": "code",
   "execution_count": 31,
   "id": "7885ee56-7002-4d92-9c7f-ce56515bd716",
   "metadata": {},
   "outputs": [
    {
     "name": "stdout",
     "output_type": "stream",
     "text": [
      "Using Pandas:\n",
      "Mean (Low): 8.92099345391912\n",
      "Median (Low): 0.430357\n",
      "Mode (Low): 0.357143\n",
      "Standard Deviation (Low): 16.67722531311947\n",
      "\n",
      "Using Numpy:\n",
      "Mean (Low): 8.92099345391912\n",
      "Median (Low): 0.430357\n",
      "Standard Deviation (Low): 16.67722531311947\n"
     ]
    }
   ],
   "source": [
    "# Using Pandas\n",
    "mean_low = data['Low'].mean()\n",
    "median_low = data['Low'].median()\n",
    "mode_low = data['Low'].mode()[0] \n",
    "std_dev_low = data['Low'].std()\n",
    "\n",
    "# Using Numpy\n",
    "mean_low_np = np.mean(data['Low'])\n",
    "median_low_np = np.nanmedian(data['Low'])  \n",
    "std_dev_low_np = np.std(data['Low'], ddof=1) \n",
    "\n",
    "print(\"Using Pandas:\")\n",
    "print(f\"Mean (Low): {mean_low}\")\n",
    "print(f\"Median (Low): {median_low}\")\n",
    "print(f\"Mode (Low): {mode_low}\")\n",
    "print(f\"Standard Deviation (Low): {std_dev_low}\")\n",
    "\n",
    "print(\"\\nUsing Numpy:\")\n",
    "print(f\"Mean (Low): {mean_low_np}\")\n",
    "print(f\"Median (Low): {median_low_np}\")\n",
    "print(f\"Standard Deviation (Low): {std_dev_low_np}\")"
   ]
  },
  {
   "cell_type": "code",
   "execution_count": 32,
   "id": "eb4077ee-bea7-4f15-96f4-2ea5a86411bb",
   "metadata": {},
   "outputs": [
    {
     "name": "stdout",
     "output_type": "stream",
     "text": [
      "Using Pandas:\n",
      "Mean (Adj Close): 8.478195025761357\n",
      "Median (Adj Close): 0.369111\n",
      "Mode (Adj Close): 0.087173\n",
      "Standard Deviation (Adj Close): 16.466161109815562\n",
      "\n",
      "Using Numpy:\n",
      "Mean (Adj Close): 8.478195025761357\n",
      "Median (Adj Close): 0.369111\n",
      "Standard Deviation (Adj Close): 16.466161109815562\n"
     ]
    }
   ],
   "source": [
    "# Using Pandas\n",
    "mean_adj_close = data['Adj Close'].mean()\n",
    "median_adj_close = data['Adj Close'].median()\n",
    "mode_adj_close = data['Adj Close'].mode()[0] \n",
    "std_dev_adj_close = data['Adj Close'].std()\n",
    "\n",
    "# Using Numpy\n",
    "mean_adj_close_np = np.mean(data['Adj Close'])\n",
    "median_adj_close_np = np.nanmedian(data['Adj Close'])  \n",
    "std_dev_adj_close_np = np.std(data['Adj Close'], ddof=1) \n",
    "\n",
    "print(\"Using Pandas:\")\n",
    "print(f\"Mean (Adj Close): {mean_adj_close}\")\n",
    "print(f\"Median (Adj Close): {median_adj_close}\")\n",
    "print(f\"Mode (Adj Close): {mode_adj_close}\")\n",
    "print(f\"Standard Deviation (Adj Close): {std_dev_adj_close}\")\n",
    "\n",
    "print(\"\\nUsing Numpy:\")\n",
    "print(f\"Mean (Adj Close): {mean_adj_close_np}\")\n",
    "print(f\"Median (Adj Close): {median_adj_close_np}\")\n",
    "print(f\"Standard Deviation (Adj Close): {std_dev_adj_close_np}\")"
   ]
  },
  {
   "cell_type": "code",
   "execution_count": 33,
   "id": "4e737231-70a0-4beb-9ce0-b231d8bb6382",
   "metadata": {},
   "outputs": [
    {
     "name": "stdout",
     "output_type": "stream",
     "text": [
      "Using Pandas:\n",
      "Mean (Volume): 341318765.53170246\n",
      "Median (Volume): 228538000.0\n",
      "Mode (Volume): 246400000.0\n",
      "Standard Deviation (Volume): 342653409.7021403\n",
      "\n",
      "Using Numpy:\n",
      "Mean (Volume): 341318765.53170246\n",
      "Median (Volume): 228538000.0\n",
      "Standard Deviation (Volume): 342653409.7021403\n"
     ]
    }
   ],
   "source": [
    "# Using Pandas\n",
    "mean_volume = data['Volume'].mean()\n",
    "median_volume = data['Volume'].median()\n",
    "mode_volume = data['Volume'].mode()[0] \n",
    "std_dev_volume = data['Volume'].std()\n",
    "\n",
    "# Using Numpy\n",
    "mean_volume_np = np.mean(data['Volume'])\n",
    "median_volume_np = np.nanmedian(data['Volume'])  \n",
    "std_dev_volume_np = np.std(data['Volume'], ddof=1) \n",
    "\n",
    "print(\"Using Pandas:\")\n",
    "print(f\"Mean (Volume): {mean_volume}\")\n",
    "print(f\"Median (Volume): {median_volume}\")\n",
    "print(f\"Mode (Volume): {mode_volume}\")\n",
    "print(f\"Standard Deviation (Volume): {std_dev_volume}\")\n",
    "\n",
    "print(\"\\nUsing Numpy:\")\n",
    "print(f\"Mean (Volume): {mean_volume_np}\")\n",
    "print(f\"Median (Volume): {median_volume_np}\")\n",
    "print(f\"Standard Deviation (Volume): {std_dev_volume_np}\")"
   ]
  },
  {
   "cell_type": "code",
   "execution_count": null,
   "id": "f109e84b-e623-4c7f-aa8c-a60466dc63c9",
   "metadata": {},
   "outputs": [],
   "source": []
  }
 ],
 "metadata": {
  "kernelspec": {
   "display_name": "Python 3 (ipykernel)",
   "language": "python",
   "name": "python3"
  },
  "language_info": {
   "codemirror_mode": {
    "name": "ipython",
    "version": 3
   },
   "file_extension": ".py",
   "mimetype": "text/x-python",
   "name": "python",
   "nbconvert_exporter": "python",
   "pygments_lexer": "ipython3",
   "version": "3.10.9"
  }
 },
 "nbformat": 4,
 "nbformat_minor": 5
}
